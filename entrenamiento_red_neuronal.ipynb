{
 "cells": [
  {
   "cell_type": "code",
   "execution_count": 8,
   "metadata": {
    "id": "FpiqXyR3Su2Z"
   },
   "outputs": [],
   "source": [
    "#utilizar en colab para cantidad de datos muy grande, por esto lo dejo en ipynb\n",
    "import numpy as np\n",
    "import random as r\n",
    "import math\n",
    "from sklearn.neural_network import MLPRegressor\n",
    "from sklearn.datasets import make_regression\n",
    "from sklearn.model_selection import train_test_split\n",
    "from joblib import dump, load\n",
    "\n",
    "def Angulos_a_posicion(cantidad):\n",
    "\n",
    "    X = []\n",
    "    a=1\n",
    "    while a <= cantidad:\n",
    "      valort1= r.randint(-90,90)\n",
    "      valort2= r.randint(-90,90)\n",
    "      valort3= r.randint(0,90)\n",
    "      valort1 = valort1 * math.pi / 180\n",
    "      valort2 = valort2 * math.pi / 180\n",
    "      valort3 = valort3 * math.pi / 180\n",
    "      X.append([valort1, valort2, valort3])\n",
    "      a+=1\n",
    "    y = []\n",
    "    for a,b,c in X:\n",
    "        valorx= 80*(math.sin(5*b/12)+math.cos(5*c/12))*math.cos(21*a/40)\n",
    "        valory=80*(math.sin(5*b/12)+math.cos(5*c/12))*math.sin(21*a/40)\n",
    "        valorz=80*(math.cos(5*b/12)+math.sin(5*c/12))\n",
    "\n",
    "        y.append([valorx, valory, valorz])\n",
    "\n",
    "    y=np.array(y)\n",
    "    return y, X\n",
    "\n",
    "#normalizacion no realizada por que el score esta muy cerca de 1, se puede mejorar \n",
    "#def normalizar(X):\n",
    "  #min=np.min(X, axis=0)\n",
    "  #return X_norm\n",
    "\n",
    "#def desnormalizar(X):\n",
    "  #return"
   ]
  },
  {
   "cell_type": "code",
   "execution_count": 17,
   "metadata": {
    "colab": {
     "base_uri": "https://localhost:8080/"
    },
    "id": "PshSCYBdSzb2",
    "outputId": "7d72c7e9-f2bb-4d09-bd27-0dfbfef74296",
    "scrolled": true
   },
   "outputs": [
    {
     "name": "stdout",
     "output_type": "stream",
     "text": [
      "[ 10.02409016 -94.50797837  63.46826722] [128.70091432  94.50797837 128.70091432] [6.61572706e+01 1.08467324e-03 9.95975077e+01]\n",
      "0.9998319345864418\n"
     ]
    },
    {
     "data": {
      "text/plain": [
       "['Red_neuronal_brazo.joblib']"
      ]
     },
     "execution_count": 17,
     "metadata": {},
     "output_type": "execute_result"
    }
   ],
   "source": [
    "X , y= Angulos_a_posicion(10000000) #variar esta cantidad para mayor \n",
    "print(np.min(X, axis=0), np.max(X, axis=0), np.mean(X, axis=0))\n",
    "X_train, X_test, y_train, y_test = train_test_split(X, y)\n",
    "regr = MLPRegressor(max_iter=5000000, activation='logistic', hidden_layer_sizes=(10,50,10)).fit(X_train, y_train) #hidden_layer_sizes=(10,50,10)\n",
    "\n",
    "score = regr.score(X_test, y_test)\n",
    "\n",
    "print(score)\n",
    "dump(regr, 'Red_neuronal_brazo.joblib')  \n"
   ]
  },
  {
   "cell_type": "markdown",
   "metadata": {},
   "source": [
    "## Comprobaciones"
   ]
  },
  {
   "cell_type": "code",
   "execution_count": 18,
   "metadata": {
    "colab": {
     "base_uri": "https://localhost:8080/"
    },
    "id": "qkJIFJz9VWSS",
    "outputId": "550d5ea5-7026-481f-b555-bb2f7456c5e8"
   },
   "outputs": [
    {
     "name": "stdout",
     "output_type": "stream",
     "text": [
      "0.015418032547814197\n"
     ]
    }
   ],
   "source": [
    "y_predict = regr.predict(X_test)\n",
    "rmse = np.sqrt(np.sum((y_test - y_predict)**2)/y_predict.shape[0])\n",
    "print(rmse)"
   ]
  },
  {
   "cell_type": "code",
   "execution_count": 19,
   "metadata": {
    "colab": {
     "base_uri": "https://localhost:8080/"
    },
    "id": "8v0XIeKzjGch",
    "outputId": "f21ae811-c010-4bc6-d2f5-566ccebac146"
   },
   "outputs": [
    {
     "data": {
      "text/plain": [
       "array([[ 0.60287883,  1.6201514 , -0.33788292]])"
      ]
     },
     "execution_count": 19,
     "metadata": {},
     "output_type": "execute_result"
    }
   ],
   "source": [
    "pos = [[140, 50, 40]]\n",
    "\n",
    "regr.predict(pos)"
   ]
  },
  {
   "cell_type": "code",
   "execution_count": 20,
   "metadata": {
    "colab": {
     "base_uri": "https://localhost:8080/"
    },
    "id": "snv1FIR1krmg",
    "outputId": "c08b4109-a316-4315-cc03-61e5e4e6aac9"
   },
   "outputs": [
    {
     "name": "stdout",
     "output_type": "stream",
     "text": [
      "122.7862661996604 40.21521947617495 51.22780667157251\n"
     ]
    }
   ],
   "source": [
    "a =0.60287883\n",
    "b =1.6201514\n",
    "c =-0.33788292\n",
    "\n",
    "valorx= 80*(math.sin(5*b/12)+math.cos(5*c/12))*math.cos(21*a/40)\n",
    "valory=80*(math.sin(5*b/12)+math.cos(5*c/12))*math.sin(21*a/40)\n",
    "valorz=80*(math.cos(5*b/12)+math.sin(5*c/12))\n",
    "\n",
    "print(valorx, valory, valorz)"
   ]
  }
 ],
 "metadata": {
  "colab": {
   "collapsed_sections": [],
   "name": "Untitled1.ipynb",
   "provenance": []
  },
  "kernelspec": {
   "display_name": "Python 3",
   "language": "python",
   "name": "python3"
  },
  "language_info": {
   "codemirror_mode": {
    "name": "ipython",
    "version": 3
   },
   "file_extension": ".py",
   "mimetype": "text/x-python",
   "name": "python",
   "nbconvert_exporter": "python",
   "pygments_lexer": "ipython3",
   "version": "3.8.5"
  }
 },
 "nbformat": 4,
 "nbformat_minor": 1
}
